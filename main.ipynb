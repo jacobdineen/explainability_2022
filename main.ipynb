{
 "cells": [
  {
   "cell_type": "code",
   "execution_count": 1,
   "id": "certain-knock",
   "metadata": {
    "ExecuteTime": {
     "end_time": "2021-03-22T15:04:41.039998Z",
     "start_time": "2021-03-22T15:04:39.459026Z"
    }
   },
   "outputs": [],
   "source": [
    "import sklearn\n",
    "from sklearn.model_selection import train_test_split\n",
    "import numpy as np\n",
    "import shap\n",
    "import time\n",
    "import pandas as pd\n",
    "import matplotlib.pyplot as plt\n",
    "import sklearn\n",
    "from sklearn.metrics import accuracy_score, f1_score, precision_score, recall_score\n",
    "import seaborn as sns\n",
    "from sklearn.neural_network import MLPClassifier\n",
    "import warnings\n",
    "warnings.filterwarnings('ignore')\n"
   ]
  },
  {
   "cell_type": "code",
   "execution_count": 2,
   "id": "lovely-macintosh",
   "metadata": {
    "ExecuteTime": {
     "end_time": "2021-03-22T15:04:41.382298Z",
     "start_time": "2021-03-22T15:04:41.276423Z"
    }
   },
   "outputs": [],
   "source": [
    "from attribution import compare_cases\n",
    "from dataloader import fetch_datasets\n",
    "\n",
    "\n",
    "models = {\n",
    "    'nn':\n",
    "    MLPClassifier(random_state=0),\n",
    "#     'svm':\n",
    "#     sklearn.svm.SVC(kernel='rbf', probability=True),\n",
    "    'logit':\n",
    "    sklearn.linear_model.LogisticRegression(),\n",
    "    'rf':\n",
    "    sklearn.ensemble.RandomForestClassifier(n_estimators=100,\n",
    "                                            max_depth=None,\n",
    "                                            min_samples_split=2,\n",
    "                                            random_state=0),\n",
    "    'knn':\n",
    "    sklearn.neighbors.KNeighborsClassifier(),\n",
    "    'gbc':\n",
    "    sklearn.ensemble.GradientBoostingClassifier(random_state=0)\n",
    "}\n",
    "\n",
    "metrics = {\n",
    "    'accuracy': lambda Y,Y_hat : accuracy_score(Y,Y_hat), \n",
    "    'f1': lambda Y,Y_hat : f1_score(Y,Y_hat,average='weighted', zero_division = 0), \n",
    "    'precision': lambda Y,Y_hat : precision_score(Y,Y_hat,average='weighted', zero_division = 0), \n",
    "    'recall': lambda Y,Y_hat : recall_score(Y,Y_hat,average='weighted', zero_division = 0), \n",
    "}\n",
    "\n",
    "\n",
    "datasets = fetch_datasets()"
   ]
  },
  {
   "cell_type": "code",
   "execution_count": 6,
   "id": "mental-manor",
   "metadata": {
    "ExecuteTime": {
     "end_time": "2021-03-22T15:01:29.890629Z",
     "start_time": "2021-03-22T15:01:29.866477Z"
    }
   },
   "outputs": [
    {
     "name": "stdout",
     "output_type": "stream",
     "text": [
      "loaded from disk\n"
     ]
    },
    {
     "data": {
      "text/html": [
       "<div>\n",
       "<style scoped>\n",
       "    .dataframe tbody tr th:only-of-type {\n",
       "        vertical-align: middle;\n",
       "    }\n",
       "\n",
       "    .dataframe tbody tr th {\n",
       "        vertical-align: top;\n",
       "    }\n",
       "\n",
       "    .dataframe thead th {\n",
       "        text-align: right;\n",
       "    }\n",
       "</style>\n",
       "<table border=\"1\" class=\"dataframe\">\n",
       "  <thead>\n",
       "    <tr style=\"text-align: right;\">\n",
       "      <th></th>\n",
       "      <th>Unnamed: 0</th>\n",
       "      <th>feature</th>\n",
       "      <th>shap</th>\n",
       "      <th>anwa</th>\n",
       "      <th>dataset</th>\n",
       "      <th>model</th>\n",
       "      <th>metric</th>\n",
       "    </tr>\n",
       "  </thead>\n",
       "  <tbody>\n",
       "    <tr>\n",
       "      <th>0</th>\n",
       "      <td>0</td>\n",
       "      <td>sepal length (cm)</td>\n",
       "      <td>0.045701</td>\n",
       "      <td>2.162043e-01</td>\n",
       "      <td>iris</td>\n",
       "      <td>nn</td>\n",
       "      <td>accuracy</td>\n",
       "    </tr>\n",
       "    <tr>\n",
       "      <th>1</th>\n",
       "      <td>1</td>\n",
       "      <td>sepal width (cm)</td>\n",
       "      <td>0.059538</td>\n",
       "      <td>2.320564e-01</td>\n",
       "      <td>iris</td>\n",
       "      <td>nn</td>\n",
       "      <td>accuracy</td>\n",
       "    </tr>\n",
       "    <tr>\n",
       "      <th>2</th>\n",
       "      <td>2</td>\n",
       "      <td>petal length (cm)</td>\n",
       "      <td>0.695611</td>\n",
       "      <td>3.632761e-01</td>\n",
       "      <td>iris</td>\n",
       "      <td>nn</td>\n",
       "      <td>accuracy</td>\n",
       "    </tr>\n",
       "    <tr>\n",
       "      <th>3</th>\n",
       "      <td>3</td>\n",
       "      <td>petal width (cm)</td>\n",
       "      <td>0.199150</td>\n",
       "      <td>1.884632e-01</td>\n",
       "      <td>iris</td>\n",
       "      <td>nn</td>\n",
       "      <td>accuracy</td>\n",
       "    </tr>\n",
       "    <tr>\n",
       "      <th>4</th>\n",
       "      <td>0</td>\n",
       "      <td>sepal length (cm)</td>\n",
       "      <td>0.044592</td>\n",
       "      <td>1.558989e-01</td>\n",
       "      <td>iris</td>\n",
       "      <td>logit</td>\n",
       "      <td>accuracy</td>\n",
       "    </tr>\n",
       "    <tr>\n",
       "      <th>...</th>\n",
       "      <td>...</td>\n",
       "      <td>...</td>\n",
       "      <td>...</td>\n",
       "      <td>...</td>\n",
       "      <td>...</td>\n",
       "      <td>...</td>\n",
       "      <td>...</td>\n",
       "    </tr>\n",
       "    <tr>\n",
       "      <th>1835</th>\n",
       "      <td>25</td>\n",
       "      <td>worst compactness</td>\n",
       "      <td>0.003285</td>\n",
       "      <td>3.883495e-02</td>\n",
       "      <td>cancer</td>\n",
       "      <td>gbc</td>\n",
       "      <td>recall</td>\n",
       "    </tr>\n",
       "    <tr>\n",
       "      <th>1836</th>\n",
       "      <td>26</td>\n",
       "      <td>worst concavity</td>\n",
       "      <td>0.073711</td>\n",
       "      <td>2.265372e-02</td>\n",
       "      <td>cancer</td>\n",
       "      <td>gbc</td>\n",
       "      <td>recall</td>\n",
       "    </tr>\n",
       "    <tr>\n",
       "      <th>1837</th>\n",
       "      <td>27</td>\n",
       "      <td>worst concave points</td>\n",
       "      <td>0.155286</td>\n",
       "      <td>6.040992e-02</td>\n",
       "      <td>cancer</td>\n",
       "      <td>gbc</td>\n",
       "      <td>recall</td>\n",
       "    </tr>\n",
       "    <tr>\n",
       "      <th>1838</th>\n",
       "      <td>28</td>\n",
       "      <td>worst symmetry</td>\n",
       "      <td>0.001365</td>\n",
       "      <td>1.365323e-15</td>\n",
       "      <td>cancer</td>\n",
       "      <td>gbc</td>\n",
       "      <td>recall</td>\n",
       "    </tr>\n",
       "    <tr>\n",
       "      <th>1839</th>\n",
       "      <td>29</td>\n",
       "      <td>worst fractal dimension</td>\n",
       "      <td>0.001385</td>\n",
       "      <td>1.365323e-15</td>\n",
       "      <td>cancer</td>\n",
       "      <td>gbc</td>\n",
       "      <td>recall</td>\n",
       "    </tr>\n",
       "  </tbody>\n",
       "</table>\n",
       "<p>1840 rows × 7 columns</p>\n",
       "</div>"
      ],
      "text/plain": [
       "      Unnamed: 0                  feature      shap          anwa dataset  \\\n",
       "0              0        sepal length (cm)  0.045701  2.162043e-01    iris   \n",
       "1              1         sepal width (cm)  0.059538  2.320564e-01    iris   \n",
       "2              2        petal length (cm)  0.695611  3.632761e-01    iris   \n",
       "3              3         petal width (cm)  0.199150  1.884632e-01    iris   \n",
       "4              0        sepal length (cm)  0.044592  1.558989e-01    iris   \n",
       "...          ...                      ...       ...           ...     ...   \n",
       "1835          25        worst compactness  0.003285  3.883495e-02  cancer   \n",
       "1836          26          worst concavity  0.073711  2.265372e-02  cancer   \n",
       "1837          27     worst concave points  0.155286  6.040992e-02  cancer   \n",
       "1838          28           worst symmetry  0.001365  1.365323e-15  cancer   \n",
       "1839          29  worst fractal dimension  0.001385  1.365323e-15  cancer   \n",
       "\n",
       "      model    metric  \n",
       "0        nn  accuracy  \n",
       "1        nn  accuracy  \n",
       "2        nn  accuracy  \n",
       "3        nn  accuracy  \n",
       "4     logit  accuracy  \n",
       "...     ...       ...  \n",
       "1835    gbc    recall  \n",
       "1836    gbc    recall  \n",
       "1837    gbc    recall  \n",
       "1838    gbc    recall  \n",
       "1839    gbc    recall  \n",
       "\n",
       "[1840 rows x 7 columns]"
      ]
     },
     "execution_count": 6,
     "metadata": {},
     "output_type": "execute_result"
    }
   ],
   "source": [
    "def run(datasets, metrics, models, load_from_disk = True):\n",
    "    if load_from_disk:\n",
    "        similarity_df = pd.read_csv('data/similarity.csv')\n",
    "        granular_value_df = pd.read_csv('data/gran_value.csv')\n",
    "        print('loaded from disk')\n",
    "        return similarity_df, granular_value_df\n",
    "    else:\n",
    "        \n",
    "        granular_value_df = pd.DataFrame()\n",
    "        similarity_df = pd.DataFrame()\n",
    "        for dataset_name, dataset in datasets.items():\n",
    "            for metric_name, metric_func in metrics.items():\n",
    "                print(f'dataset: {dataset_name}, metric: {metric_name}')\n",
    "                logs, vals = compare_cases(dataset=(dataset_name, dataset),\n",
    "                                           metric=(metric_name, metric_func),\n",
    "                                           models = models)\n",
    "                granular_value_df = granular_value_df.append(vals)\n",
    "                similarity_df = similarity_df.append(logs)\n",
    "                similarity_df.to_csv('data/similarity.csv')\n",
    "                granular_value_df.to_csv('data/gran_value.csv')\n",
    "                print('saved to disk')\n",
    "        return similarity_df, granular_value_df\n",
    "\n",
    "\n",
    "similarity_df, granular_value_df = run(datasets, metrics, models)\n",
    "granular_value_df"
   ]
  },
  {
   "cell_type": "code",
   "execution_count": 347,
   "id": "attempted-plate",
   "metadata": {
    "ExecuteTime": {
     "end_time": "2021-03-19T23:43:01.994538Z",
     "start_time": "2021-03-19T23:43:01.679170Z"
    }
   },
   "outputs": [
    {
     "data": {
      "image/png": "[encoded data removed]",
      "text/plain": [
       "<Figure size 842.4x595.44 with 1 Axes>"
      ]
     },
     "metadata": {
      "needs_background": "light"
     },
     "output_type": "display_data"
    },
    {
     "data": {
      "text/plain": [
       "k              10.00\n",
       "Jaccard_Sim     0.82\n",
       "dtype: float64"
      ]
     },
     "execution_count": 347,
     "metadata": {},
     "output_type": "execute_result"
    }
   ],
   "source": [
    "from sklearn.metrics import jaccard_score\n",
    "from scipy.spatial import distance\n",
    "\n",
    "acc = granular_value_df[granular_value_df['metric'] == 'accuracy']\n",
    "# rankings = acc.groupby(['dataset', 'model', 'feature'], level = 0).rank(ascending=True, method='dense')\n",
    "# acc['shap_rank'] = rankings['shap']\n",
    "# acc['anwa_rank'] = rankings['anwa']\n",
    "# acc.groupby(['dataset', 'model', 'feature']).sum().reset\n",
    "ks = [1,2,3,4,5, 6, 7, 8,9,10]\n",
    "Jaccards = []\n",
    "for k in ks: \n",
    "    for keys in datasets.keys():\n",
    "        if keys == 'cancer':\n",
    "            for model_key in models.keys():\n",
    "                data_slice = acc[acc['dataset'] == keys]\n",
    "                model_slice = data_slice[data_slice['model'] == model_key]\n",
    "                top_k_shap = model_slice.nlargest(k, 'shap')['feature']\n",
    "                top_k_anwa = model_slice.nlargest(k, 'anwa')['feature']\n",
    "                jacc = distance.jaccard(top_k_shap, top_k_anwa)\n",
    "                Jaccards.append((keys, model_key, k, jacc))\n",
    "\n",
    "j = pd.DataFrame.from_dict(Jaccards)\n",
    "j.columns = ['dataset', 'model', 'k', 'Jaccard_Sim']\n",
    "\n",
    "sns.lineplot(x = 'k', y = 'Jaccard_Sim', hue = 'model', style = 'dataset', data = j)\n",
    "plt.title('Jaccard Similarity by Model', size = 16)\n",
    "plt.xlabel('K', size = 14)\n",
    "plt.ylabel('Similarity', size = 14)\n",
    "plt.show()\n",
    "\n",
    "j[j['k'] == 10].mean()"
   ]
  },
  {
   "cell_type": "code",
   "execution_count": 243,
   "id": "appreciated-township",
   "metadata": {
    "ExecuteTime": {
     "end_time": "2021-03-19T23:02:34.974841Z",
     "start_time": "2021-03-19T23:02:34.201917Z"
    }
   },
   "outputs": [
    {
     "data": {
      "image/png": "[encoded data removed]",
      "text/plain": [
       "<Figure size 842.4x595.44 with 1 Axes>"
      ]
     },
     "metadata": {
      "needs_background": "light"
     },
     "output_type": "display_data"
    },
    {
     "data": {
      "image/png": "[encoded data removed]",
      "text/plain": [
       "<Figure size 842.4x595.44 with 1 Axes>"
      ]
     },
     "metadata": {
      "needs_background": "light"
     },
     "output_type": "display_data"
    }
   ],
   "source": [
    "\n",
    "from matplotlib import rcParams\n",
    "\n",
    "# figure size in inches\n",
    "rcParams['figure.figsize'] = 11.7,8.27\n",
    "\n",
    "\n",
    "sns.boxplot(x = 'dataset', y = 'similarity', hue = 'model',  data = similarity_df)\n",
    "plt.title('By Dataset Comparison', size = 16)\n",
    "plt.xlabel('Dataset', size = 14)\n",
    "plt.ylabel('Similarity', size = 14)\n",
    "\n",
    "plt.show()\n",
    "\n",
    "sns.boxplot(x = 'model', y = 'similarity', hue = 'metric', data = similarity_df)\n",
    "plt.title('By Model Comparison', size = 16)\n",
    "plt.xlabel('Dataset', size = 14)\n",
    "plt.ylabel('Similarity', size = 14)\n",
    "\n",
    "plt.show()\n",
    "\n",
    "# sns.boxplot(x = 'model', y = 'similarity',  data = similarity_df)"
   ]
  },
  {
   "cell_type": "code",
   "execution_count": 192,
   "id": "informational-documentary",
   "metadata": {
    "ExecuteTime": {
     "end_time": "2021-03-19T22:44:11.857139Z",
     "start_time": "2021-03-19T22:44:11.525052Z"
    }
   },
   "outputs": [
    {
     "data": {
      "image/png": "[encoded data removed]",
      "text/plain": [
       "<Figure size 720x504 with 2 Axes>"
      ]
     },
     "metadata": {
      "needs_background": "light"
     },
     "output_type": "display_data"
    },
    {
     "data": {
      "text/plain": [
       "<Figure size 842.4x595.44 with 0 Axes>"
      ]
     },
     "metadata": {},
     "output_type": "display_data"
    }
   ],
   "source": [
    "temp = granular_value_df[granular_value_df['dataset'] == 'iris']\n",
    "temp = temp[temp['metric'] == 'accuracy']\n",
    "fig, axes = plt.subplots(1, 2, figsize=(10, 7), sharey=True, sharex=True)\n",
    "fig.suptitle('Static vs Dynamic FIs (m = accuracy) \\n Iris Dataset')\n",
    "\n",
    "# Bulbasaur\n",
    "g = sns.barplot(ax=axes[0], x = 'shap', y = 'feature', hue = 'model', data = temp)\n",
    "g.legend(loc='center right', bbox_to_anchor=(2.6, 0.5), ncol=1)# Charmander\n",
    "g = sns.barplot(ax=axes[1], x = 'anwa', y = 'feature', hue = 'model', data = temp)\n",
    "plt.legend([],[], frameon=False)\n",
    "plt.show()\n",
    "plt.savefig('sample.png')"
   ]
  },
  {
   "cell_type": "code",
   "execution_count": 5,
   "id": "attempted-course",
   "metadata": {
    "ExecuteTime": {
     "end_time": "2021-03-22T16:48:50.054652Z",
     "start_time": "2021-03-22T15:06:11.105780Z"
    }
   },
   "outputs": [
    {
     "name": "stdout",
     "output_type": "stream",
     "text": [
      "dataset: adult_1000, metric: accuracy\n"
     ]
    },
    {
     "data": {
      "application/vnd.jupyter.widget-view+json": {
       "model_id": "fcef985555094ee8b2b2e8ae73c2136b",
       "version_major": 2,
       "version_minor": 0
      },
      "text/plain": [
       "  0%|          | 0/200 [00:00<?, ?it/s]"
      ]
     },
     "metadata": {},
     "output_type": "display_data"
    },
    {
     "name": "stdout",
     "output_type": "stream",
     "text": [
      "saved to disk\n",
      "dataset: adult_2000, metric: accuracy\n"
     ]
    },
    {
     "data": {
      "application/vnd.jupyter.widget-view+json": {
       "model_id": "b9bb769b3d844f84be57c7f139c04f44",
       "version_major": 2,
       "version_minor": 0
      },
      "text/plain": [
       "  0%|          | 0/400 [00:00<?, ?it/s]"
      ]
     },
     "metadata": {},
     "output_type": "display_data"
    },
    {
     "name": "stdout",
     "output_type": "stream",
     "text": [
      "saved to disk\n",
      "dataset: adult_4000, metric: accuracy\n"
     ]
    },
    {
     "data": {
      "application/vnd.jupyter.widget-view+json": {
       "model_id": "952a025153334fabb45c4b1aeb0de7df",
       "version_major": 2,
       "version_minor": 0
      },
      "text/plain": [
       "  0%|          | 0/800 [00:00<?, ?it/s]"
      ]
     },
     "metadata": {},
     "output_type": "display_data"
    },
    {
     "name": "stdout",
     "output_type": "stream",
     "text": [
      "saved to disk\n",
      "dataset: adult_8000, metric: accuracy\n"
     ]
    },
    {
     "data": {
      "application/vnd.jupyter.widget-view+json": {
       "model_id": "459749ea208641b89f6bf25b2437c3ca",
       "version_major": 2,
       "version_minor": 0
      },
      "text/plain": [
       "  0%|          | 0/1600 [00:00<?, ?it/s]"
      ]
     },
     "metadata": {},
     "output_type": "display_data"
    },
    {
     "name": "stdout",
     "output_type": "stream",
     "text": [
      "saved to disk\n",
      "dataset: adult_16000, metric: accuracy\n"
     ]
    },
    {
     "data": {
      "application/vnd.jupyter.widget-view+json": {
       "model_id": "f3eb41c349cc4b848847edd2e9f75d0f",
       "version_major": 2,
       "version_minor": 0
      },
      "text/plain": [
       "  0%|          | 0/3200 [00:00<?, ?it/s]"
      ]
     },
     "metadata": {},
     "output_type": "display_data"
    },
    {
     "name": "stdout",
     "output_type": "stream",
     "text": [
      "saved to disk\n",
      "dataset: adult_32000, metric: accuracy\n"
     ]
    },
    {
     "data": {
      "application/vnd.jupyter.widget-view+json": {
       "model_id": "d839db5d452d473b854ae54402fba729",
       "version_major": 2,
       "version_minor": 0
      },
      "text/plain": [
       "  0%|          | 0/6400 [00:00<?, ?it/s]"
      ]
     },
     "metadata": {},
     "output_type": "display_data"
    },
    {
     "name": "stdout",
     "output_type": "stream",
     "text": [
      "saved to disk\n"
     ]
    }
   ],
   "source": [
    "from dataloader import fetch_datasets_adult_samples\n",
    "models = {\n",
    "    'nn':\n",
    "    MLPClassifier(random_state=0),\n",
    "#     'svm':\n",
    "#     sklearn.svm.SVC(kernel='rbf', probability=True),\n",
    "#     'logit':\n",
    "#     sklearn.linear_model.LogisticRegression(),\n",
    "#     'rf':\n",
    "#     sklearn.ensemble.RandomForestClassifier(n_estimators=100,\n",
    "#                                             max_depth=None,\n",
    "#                                             min_samples_split=2,\n",
    "#                                             random_state=0),\n",
    "#     'knn':\n",
    "#     sklearn.neighbors.KNeighborsClassifier(),\n",
    "#     'gbc':\n",
    "#     sklearn.ensemble.GradientBoostingClassifier(random_state=0)\n",
    "}\n",
    "\n",
    "metrics = {\n",
    "    'accuracy': lambda Y,Y_hat : accuracy_score(Y,Y_hat), \n",
    "#     'f1': lambda Y,Y_hat : f1_score(Y,Y_hat,average='weighted', zero_division = 0), \n",
    "#     'precision': lambda Y,Y_hat : precision_score(Y,Y_hat,average='weighted', zero_division = 0), \n",
    "#     'recall': lambda Y,Y_hat : recall_score(Y,Y_hat,average='weighted', zero_division = 0), \n",
    "}\n",
    "\n",
    "\n",
    "datasets = fetch_datasets_adult_samples()\n",
    "\n",
    "\n",
    "def run(datasets, metrics, models, load_from_disk = True):\n",
    "    if load_from_disk:\n",
    "        similarity_df = pd.read_csv('data/similarity_adult.csv')\n",
    "        granular_value_df = pd.read_csv('data/gran_value_adult.csv')\n",
    "        print('loaded from disk')\n",
    "        return similarity_df, granular_value_df\n",
    "    else:\n",
    "        \n",
    "        granular_value_df = pd.DataFrame()\n",
    "        similarity_df = pd.DataFrame()\n",
    "        for dataset_name, dataset in datasets.items():\n",
    "            for metric_name, metric_func in metrics.items():\n",
    "                print(f'dataset: {dataset_name}, metric: {metric_name}')\n",
    "                logs, vals = compare_cases(dataset=(dataset_name, dataset),\n",
    "                                           metric=(metric_name, metric_func),\n",
    "                                           models = models)\n",
    "                granular_value_df = granular_value_df.append(vals)\n",
    "                similarity_df = similarity_df.append(logs)\n",
    "                similarity_df.to_csv('data/similarity_adult.csv')\n",
    "                granular_value_df.to_csv('data/gran_value_adult.csv')\n",
    "                print('saved to disk')\n",
    "        return similarity_df, granular_value_df\n",
    "\n",
    "\n",
    "similarity_df, granular_value_df = run(datasets, metrics, models, False)\n"
   ]
  },
  {
   "cell_type": "code",
   "execution_count": 37,
   "id": "logical-vampire",
   "metadata": {
    "ExecuteTime": {
     "end_time": "2021-03-22T17:06:15.737944Z",
     "start_time": "2021-03-22T17:06:15.597231Z"
    }
   },
   "outputs": [
    {
     "data": {
      "text/html": [
       "<div>\n",
       "<style scoped>\n",
       "    .dataframe tbody tr th:only-of-type {\n",
       "        vertical-align: middle;\n",
       "    }\n",
       "\n",
       "    .dataframe tbody tr th {\n",
       "        vertical-align: top;\n",
       "    }\n",
       "\n",
       "    .dataframe thead th {\n",
       "        text-align: right;\n",
       "    }\n",
       "</style>\n",
       "<table border=\"1\" class=\"dataframe\">\n",
       "  <thead>\n",
       "    <tr style=\"text-align: right;\">\n",
       "      <th></th>\n",
       "      <th>dataset</th>\n",
       "      <th>model</th>\n",
       "      <th>metric</th>\n",
       "      <th>value</th>\n",
       "    </tr>\n",
       "  </thead>\n",
       "  <tbody>\n",
       "    <tr>\n",
       "      <th>0</th>\n",
       "      <td>adult_1000</td>\n",
       "      <td>nn</td>\n",
       "      <td>accuracy</td>\n",
       "      <td>0.701029</td>\n",
       "    </tr>\n",
       "    <tr>\n",
       "      <th>0</th>\n",
       "      <td>adult_2000</td>\n",
       "      <td>nn</td>\n",
       "      <td>accuracy</td>\n",
       "      <td>0.564167</td>\n",
       "    </tr>\n",
       "    <tr>\n",
       "      <th>0</th>\n",
       "      <td>adult_4000</td>\n",
       "      <td>nn</td>\n",
       "      <td>accuracy</td>\n",
       "      <td>0.492878</td>\n",
       "    </tr>\n",
       "    <tr>\n",
       "      <th>0</th>\n",
       "      <td>adult_8000</td>\n",
       "      <td>nn</td>\n",
       "      <td>accuracy</td>\n",
       "      <td>0.742809</td>\n",
       "    </tr>\n",
       "    <tr>\n",
       "      <th>0</th>\n",
       "      <td>adult_16000</td>\n",
       "      <td>nn</td>\n",
       "      <td>accuracy</td>\n",
       "      <td>0.857294</td>\n",
       "    </tr>\n",
       "    <tr>\n",
       "      <th>0</th>\n",
       "      <td>adult_32000</td>\n",
       "      <td>nn</td>\n",
       "      <td>accuracy</td>\n",
       "      <td>0.870743</td>\n",
       "    </tr>\n",
       "  </tbody>\n",
       "</table>\n",
       "</div>"
      ],
      "text/plain": [
       "       dataset model    metric     value\n",
       "0   adult_1000    nn  accuracy  0.701029\n",
       "0   adult_2000    nn  accuracy  0.564167\n",
       "0   adult_4000    nn  accuracy  0.492878\n",
       "0   adult_8000    nn  accuracy  0.742809\n",
       "0  adult_16000    nn  accuracy  0.857294\n",
       "0  adult_32000    nn  accuracy  0.870743"
      ]
     },
     "execution_count": 37,
     "metadata": {},
     "output_type": "execute_result"
    },
    {
     "data": {
      "image/png": "[encoded data removed]",
      "text/plain": [
       "<Figure size 432x288 with 1 Axes>"
      ]
     },
     "metadata": {
      "needs_background": "light"
     },
     "output_type": "display_data"
    }
   ],
   "source": [
    "similarity_df.columns = ['dataset', 'model', 'metric', 'value']\n",
    "sns.lineplot(x ='dataset', y ='value', data=similarity_df)\n",
    "\n",
    "similarity_df"
   ]
  },
  {
   "cell_type": "code",
   "execution_count": 30,
   "id": "senior-thread",
   "metadata": {
    "ExecuteTime": {
     "end_time": "2021-03-22T17:05:01.931275Z",
     "start_time": "2021-03-22T17:05:01.740745Z"
    }
   },
   "outputs": [
    {
     "data": {
      "image/png": "[encoded data removed]",
      "text/plain": [
       "<Figure size 432x288 with 1 Axes>"
      ]
     },
     "metadata": {
      "needs_background": "light"
     },
     "output_type": "display_data"
    },
    {
     "data": {
      "text/html": [
       "<div>\n",
       "<style scoped>\n",
       "    .dataframe tbody tr th:only-of-type {\n",
       "        vertical-align: middle;\n",
       "    }\n",
       "\n",
       "    .dataframe tbody tr th {\n",
       "        vertical-align: top;\n",
       "    }\n",
       "\n",
       "    .dataframe thead th {\n",
       "        text-align: right;\n",
       "    }\n",
       "</style>\n",
       "<table border=\"1\" class=\"dataframe\">\n",
       "  <thead>\n",
       "    <tr style=\"text-align: right;\">\n",
       "      <th></th>\n",
       "      <th>feature</th>\n",
       "      <th>shap</th>\n",
       "      <th>anwa</th>\n",
       "      <th>dataset</th>\n",
       "      <th>model</th>\n",
       "      <th>metric</th>\n",
       "    </tr>\n",
       "  </thead>\n",
       "  <tbody>\n",
       "    <tr>\n",
       "      <th>0</th>\n",
       "      <td>Age</td>\n",
       "      <td>0.069910</td>\n",
       "      <td>0.158106</td>\n",
       "      <td>adult_1000</td>\n",
       "      <td>nn</td>\n",
       "      <td>accuracy</td>\n",
       "    </tr>\n",
       "    <tr>\n",
       "      <th>1</th>\n",
       "      <td>Education-Num</td>\n",
       "      <td>0.029016</td>\n",
       "      <td>0.100321</td>\n",
       "      <td>adult_1000</td>\n",
       "      <td>nn</td>\n",
       "      <td>accuracy</td>\n",
       "    </tr>\n",
       "    <tr>\n",
       "      <th>2</th>\n",
       "      <td>Capital Gain</td>\n",
       "      <td>0.177547</td>\n",
       "      <td>0.061798</td>\n",
       "      <td>adult_1000</td>\n",
       "      <td>nn</td>\n",
       "      <td>accuracy</td>\n",
       "    </tr>\n",
       "    <tr>\n",
       "      <th>3</th>\n",
       "      <td>Capital Loss</td>\n",
       "      <td>0.021126</td>\n",
       "      <td>0.015249</td>\n",
       "      <td>adult_1000</td>\n",
       "      <td>nn</td>\n",
       "      <td>accuracy</td>\n",
       "    </tr>\n",
       "    <tr>\n",
       "      <th>4</th>\n",
       "      <td>Hours per week</td>\n",
       "      <td>0.047081</td>\n",
       "      <td>0.024880</td>\n",
       "      <td>adult_1000</td>\n",
       "      <td>nn</td>\n",
       "      <td>accuracy</td>\n",
       "    </tr>\n",
       "    <tr>\n",
       "      <th>...</th>\n",
       "      <td>...</td>\n",
       "      <td>...</td>\n",
       "      <td>...</td>\n",
       "      <td>...</td>\n",
       "      <td>...</td>\n",
       "      <td>...</td>\n",
       "    </tr>\n",
       "    <tr>\n",
       "      <th>44</th>\n",
       "      <td>Race_2</td>\n",
       "      <td>0.016750</td>\n",
       "      <td>0.013768</td>\n",
       "      <td>adult_32000</td>\n",
       "      <td>nn</td>\n",
       "      <td>accuracy</td>\n",
       "    </tr>\n",
       "    <tr>\n",
       "      <th>45</th>\n",
       "      <td>Race_3</td>\n",
       "      <td>0.001927</td>\n",
       "      <td>0.001100</td>\n",
       "      <td>adult_32000</td>\n",
       "      <td>nn</td>\n",
       "      <td>accuracy</td>\n",
       "    </tr>\n",
       "    <tr>\n",
       "      <th>46</th>\n",
       "      <td>Race_4</td>\n",
       "      <td>0.023059</td>\n",
       "      <td>0.016952</td>\n",
       "      <td>adult_32000</td>\n",
       "      <td>nn</td>\n",
       "      <td>accuracy</td>\n",
       "    </tr>\n",
       "    <tr>\n",
       "      <th>47</th>\n",
       "      <td>Sex_0</td>\n",
       "      <td>0.079104</td>\n",
       "      <td>0.076258</td>\n",
       "      <td>adult_32000</td>\n",
       "      <td>nn</td>\n",
       "      <td>accuracy</td>\n",
       "    </tr>\n",
       "    <tr>\n",
       "      <th>48</th>\n",
       "      <td>Sex_1</td>\n",
       "      <td>0.040484</td>\n",
       "      <td>0.017785</td>\n",
       "      <td>adult_32000</td>\n",
       "      <td>nn</td>\n",
       "      <td>accuracy</td>\n",
       "    </tr>\n",
       "  </tbody>\n",
       "</table>\n",
       "<p>290 rows × 6 columns</p>\n",
       "</div>"
      ],
      "text/plain": [
       "           feature      shap      anwa      dataset model    metric\n",
       "0              Age  0.069910  0.158106   adult_1000    nn  accuracy\n",
       "1    Education-Num  0.029016  0.100321   adult_1000    nn  accuracy\n",
       "2     Capital Gain  0.177547  0.061798   adult_1000    nn  accuracy\n",
       "3     Capital Loss  0.021126  0.015249   adult_1000    nn  accuracy\n",
       "4   Hours per week  0.047081  0.024880   adult_1000    nn  accuracy\n",
       "..             ...       ...       ...          ...   ...       ...\n",
       "44          Race_2  0.016750  0.013768  adult_32000    nn  accuracy\n",
       "45          Race_3  0.001927  0.001100  adult_32000    nn  accuracy\n",
       "46          Race_4  0.023059  0.016952  adult_32000    nn  accuracy\n",
       "47           Sex_0  0.079104  0.076258  adult_32000    nn  accuracy\n",
       "48           Sex_1  0.040484  0.017785  adult_32000    nn  accuracy\n",
       "\n",
       "[290 rows x 6 columns]"
      ]
     },
     "execution_count": 30,
     "metadata": {},
     "output_type": "execute_result"
    }
   ],
   "source": [
    "sns.regplot(x = [1000,2000,4000,8000,16000,32000], y= 'value', data = similarity_df)\n",
    "plt.ylim = [0,1]\n",
    "plt.show()\n",
    "granular_value_df"
   ]
  },
  {
   "cell_type": "code",
   "execution_count": 36,
   "id": "continent-inspector",
   "metadata": {
    "ExecuteTime": {
     "end_time": "2021-03-22T17:05:55.977308Z",
     "start_time": "2021-03-22T17:05:55.952348Z"
    }
   },
   "outputs": [
    {
     "ename": "ValueError",
     "evalue": "The truth value of a Series is ambiguous. Use a.empty, a.bool(), a.item(), a.any() or a.all().",
     "output_type": "error",
     "traceback": [
      "\u001b[1;31m---------------------------------------------------------------------------\u001b[0m",
      "\u001b[1;31mValueError\u001b[0m                                Traceback (most recent call last)",
      "\u001b[1;32m<ipython-input-36-8ac5d8cb65f8>\u001b[0m in \u001b[0;36m<module>\u001b[1;34m\u001b[0m\n\u001b[0;32m      1\u001b[0m \u001b[0mtemp\u001b[0m \u001b[1;33m=\u001b[0m \u001b[0mgranular_value_df\u001b[0m\u001b[1;33m.\u001b[0m\u001b[0mmelt\u001b[0m\u001b[1;33m(\u001b[0m\u001b[1;33m[\u001b[0m\u001b[1;34m'feature'\u001b[0m\u001b[1;33m,\u001b[0m \u001b[1;34m'dataset'\u001b[0m\u001b[1;33m]\u001b[0m\u001b[1;33m)\u001b[0m\u001b[1;33m\u001b[0m\u001b[1;33m\u001b[0m\u001b[0m\n\u001b[1;32m----> 2\u001b[1;33m \u001b[0mtemp\u001b[0m\u001b[1;33m[\u001b[0m\u001b[0mtemp\u001b[0m\u001b[1;33m[\u001b[0m\u001b[1;34m'variable'\u001b[0m\u001b[1;33m]\u001b[0m \u001b[1;33m==\u001b[0m \u001b[1;34m'shap'\u001b[0m \u001b[1;32mor\u001b[0m \u001b[1;34m'anwa'\u001b[0m\u001b[1;33m]\u001b[0m\u001b[1;33m\u001b[0m\u001b[1;33m\u001b[0m\u001b[0m\n\u001b[0m",
      "\u001b[1;32mC:\\ProgramData\\Anaconda3\\envs\\hicss\\lib\\site-packages\\pandas\\core\\generic.py\u001b[0m in \u001b[0;36m__nonzero__\u001b[1;34m(self)\u001b[0m\n\u001b[0;32m   1440\u001b[0m     \u001b[1;33m@\u001b[0m\u001b[0mfinal\u001b[0m\u001b[1;33m\u001b[0m\u001b[1;33m\u001b[0m\u001b[0m\n\u001b[0;32m   1441\u001b[0m     \u001b[1;32mdef\u001b[0m \u001b[0m__nonzero__\u001b[0m\u001b[1;33m(\u001b[0m\u001b[0mself\u001b[0m\u001b[1;33m)\u001b[0m\u001b[1;33m:\u001b[0m\u001b[1;33m\u001b[0m\u001b[1;33m\u001b[0m\u001b[0m\n\u001b[1;32m-> 1442\u001b[1;33m         raise ValueError(\n\u001b[0m\u001b[0;32m   1443\u001b[0m             \u001b[1;34mf\"The truth value of a {type(self).__name__} is ambiguous. \"\u001b[0m\u001b[1;33m\u001b[0m\u001b[1;33m\u001b[0m\u001b[0m\n\u001b[0;32m   1444\u001b[0m             \u001b[1;34m\"Use a.empty, a.bool(), a.item(), a.any() or a.all().\"\u001b[0m\u001b[1;33m\u001b[0m\u001b[1;33m\u001b[0m\u001b[0m\n",
      "\u001b[1;31mValueError\u001b[0m: The truth value of a Series is ambiguous. Use a.empty, a.bool(), a.item(), a.any() or a.all()."
     ]
    }
   ],
   "source": [
    "temp = granular_value_df.melt(['feature', 'dataset'])\n",
    "temp[temp['variable'] == 'shap' or 'anwa']"
   ]
  },
  {
   "cell_type": "code",
   "execution_count": null,
   "id": "swiss-demand",
   "metadata": {},
   "outputs": [],
   "source": []
  }
 ],
 "metadata": {
  "kernelspec": {
   "display_name": "Python 3",
   "language": "python",
   "name": "python3"
  },
  "language_info": {
   "codemirror_mode": {
    "name": "ipython",
    "version": 3
   },
   "file_extension": ".py",
   "mimetype": "text/x-python",
   "name": "python",
   "nbconvert_exporter": "python",
   "pygments_lexer": "ipython3",
   "version": "3.8.8"
  },
  "varInspector": {
   "cols": {
    "lenName": 16,
    "lenType": 16,
    "lenVar": 40
   },
   "kernels_config": {
    "python": {
     "delete_cmd_postfix": "",
     "delete_cmd_prefix": "del ",
     "library": "var_list.py",
     "varRefreshCmd": "print(var_dic_list())"
    },
    "r": {
     "delete_cmd_postfix": ") ",
     "delete_cmd_prefix": "rm(",
     "library": "var_list.r",
     "varRefreshCmd": "cat(var_dic_list()) "
    }
   },
   "types_to_exclude": [
    "module",
    "function",
    "builtin_function_or_method",
    "instance",
    "_Feature"
   ],
   "window_display": false
  }
 },
 "nbformat": 4,
 "nbformat_minor": 5
}
